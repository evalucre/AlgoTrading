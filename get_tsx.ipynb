{
  "nbformat": 4,
  "nbformat_minor": 0,
  "metadata": {
    "colab": {
      "name": "get_tsx.ipynb",
      "provenance": [],
      "collapsed_sections": [],
      "authorship_tag": "ABX9TyMxeLrB0sSvHjT2/o1bv8Ux"
    },
    "kernelspec": {
      "name": "python3",
      "display_name": "Python 3"
    },
    "language_info": {
      "name": "python"
    }
  },
  "cells": [
    {
      "cell_type": "code",
      "metadata": {
        "id": "e1Uk3mhLFdCH"
      },
      "source": [
        "from urllib.request import urlopen\n",
        "import re\n",
        "import numpy as np\n",
        "import pandas as pd\n",
        "\n",
        "\n",
        "#regular expression for generating list of tsx securities\n",
        "link = \"https://www.tsx.com/json/company-directory/search/tsx/%5E*\"\n",
        "\n",
        "source_page = urlopen(link)\n",
        "source_file = source_page.read()\n",
        "\n",
        "source_file = re.sub(\"[{}\\[\\]]\", \" \", str(source_file))\n",
        "source_file = re.sub(\"[\\\"]\", \"\", str(source_file))\n",
        "source_file = re.sub(\",\", \"_ \", str(source_file))\n",
        "\n",
        "symbols = re.findall(\"symbol:[.A-Z]*_{1}\", str(source_file))\n",
        "\n",
        "symbols = re.sub(\"_\", \".TO\", str(symbols))\n",
        "symbols = re.sub(\"symbol:\", \"\", str(symbols))\n",
        "\n",
        "str1 = symbols.replace(\"]\",\"\").replace(\"[\",\"\")\n",
        "ticker_list = str1.replace(\"'\",\"\").replace(\" \", \"\").split(\",\")\n",
        "ticker_list = np.unique(ticker_list)\n",
        "\n",
        "ticker_list = pd.DataFrame(ticker_list)"
      ],
      "execution_count": null,
      "outputs": []
    }
  ]
}